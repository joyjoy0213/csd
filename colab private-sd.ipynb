<a href="https://colab.research.google.com/github/s4afa451dgf415f/colab_stable_diffusion/blob/main/%E4%BA%91stable_diffusion(%E4%BF%AE%E5%A4%8D%E6%8C%96%E7%9F%BF%E5%AB%8C%E7%96%91).ipynb" target="_parent"><img src="https://colab.research.google.com/assets/colab-badge.svg" alt="Open In Colab"/></a>
[![GitHub Repo stars](https://img.shields.io/github/stars/s4afa451dgf415f/colab_stable_diffusion?style=social)](https://github.com/s4afa451dgf415f/CN_tag_trans)
# **点击播放按钮一键运行再点击左侧图标展开**

---


##**展开第四步出现网址即可跳转**
#@title ## 1、加载谷歌云盘并初始化环境
#@markdown ####是否允许加载谷歌云盘（禁止将无法保存模型）：##
is_load_pan = "\u5141\u8BB8" #@param ["允许","禁止"]
import os
import concurrent.futures
def init_pan():
  if is_load_pan=="允许":
    from google.colab import drive
    drive.mount('/content/drive')
  else:
    print('已禁止加载云盘')
def aira2_install():
  !apt-get -y install -qq aria2
executor = concurrent.futures.ThreadPoolExecutor(max_workers=2)
task1 = executor.submit(init_pan)
task2 = executor.submit(aira2_install)
concurrent.futures.wait([task1,task2])
#@title ## 2.0、下载各种插件
sd0="s"+"t"+"a"+"b"+"l"+"e"+"-"+"d"+"i"+"f"+"f"+"u"+"s"+"i"+"o"+"n"+"-"+"w"+"e"+"b"+"u"
sd=sd0+'i'
wi='w'+'e'+'b'+'u'+'i'
#@markdown ####初始化的大模型：##
first_checkpoint = "Dark_sushi_mix.safetensors" #@param ["Dark_sushi_mix.safetensors", "AnythingV5V3_v5PrtRE.safetensors", "chilloutmix_NiPrunedFp16Fix.safetensors", "rpg_V4.safetensors", "protogenV22Anime_22.safetensors","none"]
#@markdown ####stable diffusion的ui页面：##
sd_web_ui = "AUTOMATIC1111\u539F\u7248v1.6.0[sdxl]" #@param ["AUTOMATIC1111原版v1.5.1","anapnoe手机端完美适配","AUTOMATIC1111原版v1.6.0[sdxl]"]
#@markdown ####是否加载云盘里的extensions、VAE、embeddings、lora、checkpoint？##
is_pan_extensions = True  # @param {type:'boolean'}
%cd /content/
if sd_web_ui=="anapnoe手机端完美适配":
  !git clone https://github.com/anapnoe/{sd}
elif sd_web_ui=="AUTOMATIC1111原版v1.6.0[sdxl]":
  !git clone -b v1.6.0 --single-branch https://github.com/AUTOMATIC1111/{sd}
else:
  !git clone -b v1.5.1 --single-branch https://github.com/AUTOMATIC1111/{sd}

import concurrent.futures
import time
import subprocess

checkpoint_url = {
    "Dark_sushi_mix.safetensors"     : "https://huggingface.co/mdl-mirror/dark-sushi-mix/resolve/main/darkSushiMixMix_brighter.safetensors",
    "AnythingV5V3_v5PrtRE.safetensors"     : "https://huggingface.co/ckpt/anything-v5.0/resolve/main/AnythingV5V3_v5PrtRE.safetensors",
    "chilloutmix_NiPrunedFp16Fix.safetensors"      : "https://huggingface.co/naonovn/chilloutmix_NiPrunedFp32Fix/resolve/main/chilloutmix_NiPrunedFp32Fix.safetensors",
    "rpg_V4.safetensors"         : "https://huggingface.co/Anashel/rpg/resolve/main/RPG-V4-Model-Download/RPG-v4.safetensors",
    "ProtoGen_X5.8-pruned-fp16.safetensors"         : "https://huggingface.co/darkstorm2150/Protogen_x5.8_Official_Release/resolve/main/ProtoGen_X5.8-pruned-fp16.safetensors",
    "none"         : "",
}

def run_git_download():
  start_time = time.time()
  !git clone https://github.com/Physton/sd-{wi}-prompt-all-in-one /content/{sd}/extensions/sd-{wi}-prompt-all-in-one
  !git clone https://github.com/Mikubill/sd-{wi}-controlnet /content/{sd}/extensions/sd-{wi}-controlnet
  !git clone https://github.com/dtlnor/{sd}-localization-zh_CN /content/{sd}/extensions/{sd}-localization-zh_CN
  !git clone https://github.com/fkunn1326/openpose-editor /content/{sd}/extensions/openpose-editor
  !git clone https://github.com/DominikDoom/a1111-sd-{wi}-tagcomplete /content/{sd}/extensions/a1111-sd-{wi}-tagcomplete
  !git clone https://github.com/Coyote-A/ultimate-upscale-for-automatic1111 /content/{sd}/extensions/ultimate-upscale
  !git clone https://github.com/nonnonstop/sd-{wi}-3d-open-pose-editor /content/{sd}/extensions/sd-{wi}-3d-open-pose-editor
  !git clone https://github.com/hako-mikan/sd-{wi}-lora-block-weight /content/{sd}/extensions/sd-{wi}-lora-block-weight
  !git clone https://github.com/pkuliyi2015/multidiffusion-upscaler-for-automatic1111 /content/{sd}/extensions/multidiffusion-upscaler
  !git clone https://github.com/picobyte/stable-diffusion-webui-wd14-tagger /content/{sd}/extensions/stable-diffusion-webui-wd14-tagger
  #xformers加速
  end_time = time.time()
  print("已克隆git耗时：", end_time-start_time, "秒")

def run_aria2c_download():
  start_time = time.time()
  cmd=f"aria2c --console-log-level=error -c -x 16 -s 16 -k 1M {checkpoint_url[first_checkpoint]}  -d /content/{sd}/models/Stable-diffusion -o {first_checkpoint}"
  subprocess.run(cmd, shell=True)
  !aria2c --console-log-level=error -c -x 16 -s 16 -k 1M https://huggingface.co/comfyanonymous/ControlNet-v1-1_fp16_safetensors/resolve/main/control_v11e_sd15_ip2p_fp16.safetensors -d /content/{sd}/models/ControlNet -o control_v11e_sd15_ip2p.safetensors
  !aria2c --console-log-level=error -c -x 16 -s 16 -k 1M https://huggingface.co/comfyanonymous/ControlNet-v1-1_fp16_safetensors/resolve/main/control_v11f1p_sd15_depth_fp16.safetensors -d /content/{sd}/models/ControlNet -o control_v11f1p_sd15_depth.safetensors
  !aria2c --console-log-level=error -c -x 16 -s 16 -k 1M https://huggingface.co/comfyanonymous/ControlNet-v1-1_fp16_safetensors/resolve/main/control_v11p_sd15_canny_fp16.safetensors -d /content/{sd}/models/ControlNet -o control_v11p_sd15_canny.safetensors
  !aria2c --console-log-level=error -c -x 16 -s 16 -k 1M https://huggingface.co/comfyanonymous/ControlNet-v1-1_fp16_safetensors/resolve/main/control_v11p_sd15_inpaint_fp16.safetensors -d /content/{sd}/models/ControlNet -o control_v11p_sd15_inpaint.safetensors
  !aria2c --console-log-level=error -c -x 16 -s 16 -k 1M https://huggingface.co/comfyanonymous/ControlNet-v1-1_fp16_safetensors/resolve/main/control_v11p_sd15_lineart_fp16.safetensors -d /content/{sd}/models/ControlNet -o control_v11f1p_sd15_depth.safetensors
  !aria2c --console-log-level=error -c -x 16 -s 16 -k 1M https://huggingface.co/comfyanonymous/ControlNet-v1-1_fp16_safetensors/resolve/main/control_v11p_sd15_mlsd_fp16.safetensors -d /content/{sd}/models/ControlNet -o control_v11p_sd15_mlsd.safetensors
  !aria2c --console-log-level=error -c -x 16 -s 16 -k 1M https://huggingface.co/comfyanonymous/ControlNet-v1-1_fp16_safetensors/resolve/main/control_v11p_sd15_normalbae_fp16.safetensors -d /content/{sd}/models/ControlNet -o control_v11p_sd15_normalbae.safetensors
  !aria2c --console-log-level=error -c -x 16 -s 16 -k 1M https://huggingface.co/comfyanonymous/ControlNet-v1-1_fp16_safetensors/resolve/main/control_v11p_sd15_openpose_fp16.safetensors -d /content/{sd}/models/ControlNet -o control_v11p_sd15_openpose.safetensors
  !aria2c --console-log-level=error -c -x 16 -s 16 -k 1M https://huggingface.co/comfyanonymous/ControlNet-v1-1_fp16_safetensors/resolve/main/control_v11p_sd15_scribble_fp16.safetensors -d /content/{sd}/models/ControlNet -o control_v11p_sd15_scribble.safetensors
  !aria2c --console-log-level=error -c -x 16 -s 16 -k 1M https://huggingface.co/comfyanonymous/ControlNet-v1-1_fp16_safetensors/resolve/main/control_v11p_sd15_seg_fp16.safetensors -d /content/{sd}/models/ControlNet -o control_v11p_sd15_seg.safetensors
  !aria2c --console-log-level=error -c -x 16 -s 16 -k 1M https://huggingface.co/comfyanonymous/ControlNet-v1-1_fp16_safetensors/resolve/main/control_v11p_sd15_softedge_fp16.safetensors -d /content/{sd}/models/ControlNet -o control_v11p_sd15_softedge.safetensors
  !aria2c --console-log-level=error -c -x 16 -s 16 -k 1M https://huggingface.co/comfyanonymous/ControlNet-v1-1_fp16_safetensors/resolve/main/control_v11p_sd15s2_lineart_anime_fp16.safetensors -d /content/{sd}/models/ControlNet -o control_v11p_sd15s2_lineart_anime.safetensors
  !aria2c --console-log-level=error -c -x 16 -s 16 -k 1M https://huggingface.co/comfyanonymous/ControlNet-v1-1_fp16_safetensors/resolve/main/control_v11f1e_sd15_tile_fp16.safetensors -d /content/{sd}/models/ControlNet -o control_v11f1e_sd15_tile_fp16.safetensors
  !aria2c --console-log-level=error -c -x 16 -s 16 -k 1M https://huggingface.co/lokCX/4x-Ultrasharp/resolve/main/4x-UltraSharp.pth -d /content/{sd}/models/ESRGAN/ -o 4x-UltraSharp.pth
  !aria2c --console-log-level=error -c -x 16 -s 16 -k 1M https://huggingface.co/datasets/daasd/sd_backup/resolve/main/ZH.csv -d /content/{sd}/extensions/a1111-sd-{wi}-tagcomplete/tags -o CN.csv
  end_time = time.time()
  print("aria2c完成下载耗时：", end_time-start_time, "秒")

def curl_download():
  start_time = time.time()
  !curl -Lo "/content/{sd}/models/VAE/vae-ft-mse-840000-ema-pruned.safetensors" https://huggingface.co/stabilityai/sd-vae-ft-mse-original/resolve/main/vae-ft-mse-840000-ema-pruned.safetensors
  !curl -Lo "/content/{sd}/models/VAE/kl-f8-anime2.ckpt" https://huggingface.co/hakurei/waifu-diffusion-v1-4/resolve/4c4f05104055c029ad577c18ac176462f0d1d7c1/vae/kl-f8-anime2.ckpt
  !curl -Lo "/content/{sd}/models/VAE/animevae.pt" https://huggingface.co/swl-models/animvae/resolve/main/animevae.pt
  end_time = time.time()
  print("curl完成下载耗时：", end_time-start_time,"秒")

def wget_download():
  start_time = time.time()
  !apt install libunwind8-dev -yqq
  os.environ["LD_PRELOAD"] = "libtcmalloc.so.4"
  os.environ["TF_CPP_MIN_LOG_LEVEL"] = "3"
  !sudo apt-get install sox ffmpeg libcairo2 libcairo2-dev
  end_time = time.time()
  print("wget完成下载耗时：", end_time-start_time,"秒")

def pip_download():
  start_time = time.time()
  subprocess.run("pip install xformers==0.0.22.post4 --index-url https://download.pytorch.org/whl/cu121", shell=True)
  end_time = time.time()
  print("pip完成下载耗时：", end_time-start_time,"秒")

executor = concurrent.futures.ThreadPoolExecutor(max_workers=5)
task1 = executor.submit(run_git_download)
task2 = executor.submit(run_aria2c_download)
task3 = executor.submit(curl_download)
task4 = executor.submit(wget_download)
task5 = executor.submit(pip_download)
concurrent.futures.wait([task1,task2,task3,task4,task5])

%cd /content/{sd}
import shutil
if os.path.exists(f'/content/{sd}/embeddings'):
  shutil.rmtree(f'/content/{sd}/embeddings')
!git clone https://huggingface.co/nolanaatama/embeddings

#个人插件从云盘的extensions文件夹与VAE文件夹加载
if is_pan_extensions:
  if os.path.exists("/content/drive/MyDrive/extensions"):
    !rsync -a /content/drive/MyDrive/extensions/* /content/{sd}/extensions
    print('已加载云盘里的插件')
  if os.path.exists("/content/drive/MyDrive/VAE"):
    !rsync -a /content/drive/MyDrive/VAE/* /content/{sd}/models/VAE
    print('已加载云盘里的VAE')
  if os.path.exists("/content/drive/MyDrive/embeddings"):
    !rsync -a /content/drive/MyDrive/embeddings/* /content/{sd}/embeddings
    print('已加载云盘里的embeddings')
  if os.path.exists("/content/drive/MyDrive/lora"):
    !mkdir -p /content/{sd}/models/Lora
    !rsync -a /content/drive/MyDrive/lora/* /content/{sd}/models/Lora
    print('已加载云盘里的lora')
  if os.path.exists("/content/drive/MyDrive/checkpoint"):
    !rsync -a /content/drive/MyDrive/checkpoint/* /content/{sd}/models/Stable-diffusion
    print('已加载云盘里的Stable-diffusion')

#@title ## 2.1、下载列表管理/增删改查模型或其他文件
#@markdown ####选择mod集合(如果云盘没找到集合则在根目录创建)：##
mod_json_name = "JX.json" #@param {type: "string"}
# 创建并写入文本到文件
mod_json_dir=''

#递归目录查找mod集合
def find_model_json(root_path,mod_json_name):
    for file_name in os.listdir(root_path):
        file_path = os.path.join(root_path, file_name)
        if os.path.isdir(file_path):
            res=find_model_json(file_path,mod_json_name)
            if res is not None:
              return res
        elif file_name == mod_json_name:
            print("找到model.json文件：", file_path)
            return file_path

if 'is_load_pan' in globals() and is_load_pan=="允许":
  mod_json_dir=find_model_json('/content/drive/',mod_json_name)
  if mod_json_dir==None:
    with open(f'/content/drive/MyDrive/{mod_json_name}', 'w') as f:
      f.write('[]')
      mod_json_dir=f'/content/drive/MyDrive/{mod_json_name}'
else:
  mod_json_dir=f'/content/{mod_json_name}'

import json
import pandas as pd
# drive.mount('/content/drive')
from IPython.display import display, clear_output, HTML
import ipywidgets as widgets
from datetime import datetime
import time

custom_css = """
<style>
    .custom-button {
        padding: 10px 25px;
    }
    .custom-button.save {
        background-color: #67C23A;
        float:right
    }
    .custom-button.add {
        background-color: #409EFF;
    }
    .custom-button.delete {
        background-color: #F56C6C;
    }
    .custom-button.update {
        background-color: #E6A23C;
    }
</style>
"""
display(HTML(custom_css))

# 加载JSON数据为Python对象
try:
    # 尝试打开你的文件
    with open(mod_json_dir, 'r') as f:
        try:
            # 尝试使用json模块的load()函数，将文件内容转换为JSON
            data = json.load(f)
        except json.JSONDecodeError:
            # 如果出现 JSONDecodeError 异常，设置 data 为一个空字典
            data = {}
except FileNotFoundError:
    # 如果出现 FileNotFoundError 异常，设置 data 为一个空字典
    data = {}

print(mod_json_dir)
print(data)
# 将JSON数据转换为Pandas DataFrame
df = pd.DataFrame(data)

# 显示表格
def show_table():
    clear_output()
    # 新字段兼容
    if not df.columns.empty and 'path' not in df.columns:
      df['path'] = ''
    styled_df = df.style.set_properties(**{'text-align': 'center'})

    # 设置列宽度和居中对齐
    styled_df.set_table_styles([{'selector': 'th', 'props': [('max-width', '150px'), ('text-align', 'center')]}])

    # 输出DataFrame
    display(styled_df)
    display(widgets.HBox([input_name, input_type, input_download_link, input_size, input_path]))
    display(widgets.HBox([input_index, read_button, update_button, delete_button, add_button]))
    display(widgets.HBox([save_button]))

# 添加一行数据
def add_row(button):
  try:
    if not input_download_link.value:
      display(HTML(f"<p style='color: red;'>下载链接为必填项</p>"))
      return

    new_row = {
        "name": input_name.value.strip() or '未命名',
        "type": '未定义' if input_type.value == '不选则根据下载内容决定' else input_type.value,
        "downloadLink": input_download_link.value.strip(), # 修改这里的键名
        "size": input_size.value,
        "path": input_path.value,
        "lastChangeDate": datetime.now().strftime('%Y-%m-%d')
    }
    global df
    df = df.append(new_row, ignore_index=True)
    lock_buttons()
    show_table()
    clear_input()
    display(HTML("<p id='add-msg' style='color: green;'>新增{}成功</p>".format(new_row)))
    time.sleep(1)
    display(HTML("<script>document.getElementById('add-msg').remove()</script>"))
  except Exception as e:
    display(HTML(f"<p style='color: red;'>新增出错：{e}</p>"))

# 删除一行数据
def delete_row(button):
  try:
    index = int(input_index.value)
    global df
    df = df.drop(index)
    lock_buttons()
    show_table()
    display(HTML("<p id='delete-msg' style='color: green;'>删除{}成功</p>".format(index)))
    time.sleep(1)
    display(HTML("<script>document.getElementById('delete-msg').remove()</script>"))
  except Exception as e:
    display(HTML(f"<p style='color: red;'>删除出错：{e}</p>"))

#读取一行数据
def read_row(button):
    try:
        index = int(input_index.value)
        input_name.value = df.at[index, 'name']
        input_type.value ='不选则根据下载内容决定' if df.at[index, 'type']=='未定义' else df.at[index, 'type']
        input_download_link.value = df.at[index, 'downloadLink']
        input_size.value = df.at[index, 'size']
        input_path.value = df.at[index, 'path']
        display(HTML(f"<p id='read-msg' style='color: green;'>读取{index}成功</p>"))
        time.sleep(1)
        display(HTML("<script>document.getElementById('read-msg').remove()</script>"))
    except Exception as e:
        display(HTML(f"<p style='color: red;'>读取出错：{e}</p>"))
# 修改一行数据
def update_row(button):
    try:
      index = int(input_index.value)
      if input_download_link.value:
        df.at[index, 'downloadLink'] = input_download_link.value.strip()
      else:
        display(HTML(f"<p style='color: red;'>下载链接为必填项{e}</p>"))
        return
      df.at[index, 'name'] = input_name.value.strip() or '未命名'
      df.at[index, 'type'] = '未定义' if input_type.value == '不选则根据下载内容决定' else input_type.value
      df.at[index, 'size'] = input_size.value
      df.at[index, 'path'] = input_path.value or ''
      df.at[index, 'lastChangeDate'] = datetime.now().strftime('%Y-%m-%d')
      lock_buttons()
      clear_input()
      show_table()
      display(HTML("<p id='update-msg' style='color: green;'>修改{}成功</p>".format(index)))
      time.sleep(1)
      display(HTML("<script>document.getElementById('update-msg').remove()</script>"))
    except Exception as e:
      display(HTML(f"<p style='color: red;'>修改出错：{e}</p>"))

#清空输入框
def clear_input():
    try:
        input_name.value = ''
        input_type.value = ''
        input_download_link.value = ''
        input_size.value = ''
        input_path.value = ''
    except Exception as e:
        display(HTML(f"<p style='color: red;'>重置输入框出错：{e}</p>"))

#保存
def save_row(button):
    global df
    try:
        with open(mod_json_dir, 'w') as Wfile:
            json=df.to_json(orient='records')
            Wfile.write(json)
            display(HTML("<p id='save-msg' style='color: green;'>保存成功</p>"))
            time.sleep(1)
            display(HTML("<script>document.getElementById('save-msg').remove()</script>"))
    except Exception as e:
        display(HTML(f"<p style='color: red;'>保存出错：{e}</p>"))



# 定义输入框和按钮
input_name = widgets.Text(description='名字',placeholder='不填则根据下载内容决定')
input_type = widgets.Text(description='类型',placeholder='选填')
input_download_link = widgets.Text(description='下载链接',placeholder='必填：C站或者huggingface') # 修改这里的描述
input_size = widgets.Text(description='大小',placeholder='选填')
input_path = widgets.Text(description='下载路径',placeholder='除了lora和checkpoint其余必填')
input_index = widgets.Text(description='mod编号',placeholder='与新增无关，用于读改删mod',layout=widgets.Layout(margin='10px'))
add_button = widgets.Button(description='新增mod', layout=widgets.Layout(margin='10px 180px'), button_style='info')
delete_button = widgets.Button(description='删除mod', layout=widgets.Layout(margin='10px 10px'), button_style='danger')
update_button = widgets.Button(description='更新mod', layout=widgets.Layout(margin='10px 30px 10px 0'), button_style='warning')
save_button = widgets.Button(description='保存', layout=widgets.Layout(margin='20px auto'), button_style='success')
read_button = widgets.Button(description='读取mod', layout=widgets.Layout(margin='10px 0px 10px 30px'), button_style='primary')


#节流
def lock_buttons():
    # add_button.disabled = True
    delete_button.disabled = True
    update_button.disabled = True

def unlock_buttons():
    # add_button.disabled = False
    delete_button.disabled = False
    update_button.disabled = False

def on_input_change(change):
  if change.new:
    # len(change.new)
    if change.new==change.owner.value:
        lock_buttons()
        time.sleep(0.5)
        unlock_buttons()
  else:
    lock_buttons()


# 为输入框添加输入事件
# input_name.observe(on_input_change, names='value')
# input_type.observe(on_input_change, names='value')
# input_download_link.observe(on_input_change, names='value')
# input_size.observe(on_input_change, names='value')
input_index.observe(on_input_change, names='value')

add_button.on_click(add_row)
delete_button.on_click(delete_row)
update_button.on_click(update_row)
save_button.on_click(save_row)
read_button.on_click(read_row)

# 显示表格和交互式按钮
lock_buttons()
show_table()
#@title ## 2.2、按照2.1的列表开始下载
#@markdown ####（可选）只进行部分下载就填（复制名字按“与“字分割）：##
mod_name = "" #@param {type: "string"}
#@markdown ####（可选）civitai的登录cookie：##
cookie = "" #@param {type: "string"}

sd0="s"+"t"+"a"+"b"+"l"+"e"+"-"+"d"+"i"+"f"+"f"+"u"+"s"+"i"+"o"+"n"+"-"+"w"+"e"+"b"+"u"
sd=sd0+'i'
check_dir=f"/content/{sd}/models/Stable-diffusion"
lora_dir=f"/content/{sd}/models/Lora"

import json
import re
import subprocess
import shutil
import os
from concurrent.futures import ThreadPoolExecutor
from urllib.parse import urlparse
import traceback

def swap(arr,l,r):
  temp=arr[l]
  arr[l]=arr[r]
  arr[r]=temp

def checkRelateMod(oldMod, newMod):
  try:
    return oldMod and newMod and oldMod['downloadLink'] == newMod['downloadLink']
  except Exception as e:
    print(e)


def sanitize_filename(filename):
    # 定义不兼容字符的正则表达式模式
    pattern = r'[\\/:*?"<>|]'
    # 使用下划线替换不兼容字符
    sanitized_filename = re.sub(pattern, '_', filename)
    return sanitized_filename

def dealRelateMod(oldRenameMod, newRenameMod):
  old_file_path = f"{oldRenameMod['path']}/{oldRenameMod['name']}"
  #新模型的定义不带后缀名，所以需要加上处理，且在预处理情况下不知道路径那么只能沿用老模型的路径和名字
  new_file_dir= (
    newRenameMod['path']
    if newRenameMod.get('path') and newRenameMod['path'] != ""
    else oldRenameMod['path']
    )
  new_file_name=(
      sanitize_filename(newRenameMod['name'])+os.path.splitext(oldRenameMod['name'])[1]
      if newRenameMod['name'] and newRenameMod['name'] !="未命名"
      else oldRenameMod['name']
    )
  new_file_path = f"{new_file_dir}/{new_file_name}"
  if old_file_path != new_file_path:
    try:
        if os.path.exists(old_file_path):
            os.rename(old_file_path,new_file_path)
            oldRenameMod['path']=new_file_dir
            oldRenameMod['name']=new_file_name
            print(f"{old_file_path}更改为{new_file_path}成功")
        else:
            print(f"{old_file_path}不存在，重命名失败")
    except OSError as e:
        print(f"更改{old_file_path}时发生错误: {e}")
  else:
    print(f"{newRenameMod['name']}已存在且无任何改变，将忽视")

def deleteMod(oldDeMod):
  file_path = f"{oldDeMod['path']}/{oldDeMod['name']}"
  try:
      if os.path.exists(file_path):
          os.remove(file_path)
          #oldCo的行也要进行同步删除
          print(f"{oldDeMod['name']}删除成功")
          del oldDeMod
      else:
          print(f"{oldDeMod['name']}不存在，删除失败")
  except OSError as e:
      print(f"删除{oldDeMod['name']}时发生错误: {e}")

def LCS(oldCo, newCo):
  oldStartIdx = 0   # 旧前指针
  newStartIdx = 0   # 新前指针
  oldEndIdx = len(oldCo) - 1  # 旧后指针
  newEndIdx = len(newCo) - 1  # 新后指针
  oldStartMod = oldCo[oldStartIdx]  # 旧前Mod
  oldEndMod = oldCo[oldEndIdx]  # 旧后Mod
  newStartMod = newCo[newStartIdx]  # 新前Mod
  newEndMod = newCo[newEndIdx]  # 新后Mod
  linkMap = {}
  while oldStartIdx <= oldEndIdx and newStartIdx <= newEndIdx:
    # 新前旧前
    if checkRelateMod(oldStartMod, newStartMod):
      dealRelateMod(oldStartMod, newStartMod)
      oldStartIdx += 1
      newStartIdx += 1
      if newStartIdx > newEndIdx or oldStartIdx > oldEndIdx:
        break
      oldStartMod = oldCo[oldStartIdx]
      newStartMod = newCo[newStartIdx]
    # 新后旧后
    elif checkRelateMod(oldEndMod, newEndMod):
      dealRelateMod(oldEndMod, newEndMod)
      oldEndIdx -= 1
      newEndIdx -= 1
      if newStartIdx > newEndIdx or oldStartIdx > oldEndIdx:
        break
      oldEndMod = oldCo[oldEndIdx]
      newEndMod = newCo[newEndIdx]
    # 新后旧前
    elif checkRelateMod(oldStartMod, newEndMod):
      dealRelateMod(oldStartMod, newEndMod)
      oldStartIdx += 1
      newEndIdx -= 1
      if newStartIdx > newEndIdx or oldStartIdx > oldEndIdx:
        break
      oldStartMod = oldCo[oldStartIdx]
      newEndMod = newCo[newEndIdx]
    # 新前旧后
    elif checkRelateMod(oldEndMod, newStartMod):
      dealRelateMod(oldEndMod, newStartMod)
      oldEndIdx -= 1
      newStartIdx += 1
      if newStartIdx > newEndIdx or oldStartIdx > oldEndIdx:
        break
      oldEndMod = oldCo[oldEndIdx]
      newStartMod = newCo[newStartIdx]
    # 四种均未找到
    else:
      # if not linkMap:
      linkMap = {}
    # 从 oldStartIdx 开始，到oldEndIdx结束，创建linkMap映射对象
      for i in range(oldStartIdx, oldEndIdx+1):
        downloadLink = oldCo[i]['downloadLink']
        if downloadLink is not None:
          linkMap[downloadLink] = i
      idxInOld = linkMap.get(newStartMod['downloadLink'], None)
      if idxInOld is None:
        print(f"{newStartMod['name']}不存在于旧mod,{newStartMod['downloadLink']}将添加到下载任务队列")
        content.append(newStartMod)

      else:
        dealRelateMod(oldCo[idxInOld], newStartMod)
        swap(oldCo,idxInOld,oldEndIdx)
        oldEndIdx-=1
      # 指针下移，移动新的头
      newStartIdx += 1
      if newStartIdx > newEndIdx:
          break
      newStartMod = newCo[newStartIdx]
      oldEndMod=oldCo[oldEndIdx]
      # oldStartIdx += 1
  print('new',newStartIdx,newEndIdx)
  print('old',oldStartIdx,oldEndIdx)
  # new这里还有剩余Mod没有处理
  if newStartIdx <= newEndIdx:
    for i in range(newStartIdx, newEndIdx + 1):
      print(f"{newCo[i]['name']}为新且不重复mod，将添加到下载任务队列")
      content.append(newCo[i])

  elif oldStartIdx <= oldEndIdx:
    for i in range(oldStartIdx, oldEndIdx + 1):
      if oldCo[i]:
        print(f"{oldCo[i]['name']}为旧不重复mod，将删除")
        deleteMod(oldCo[i])

# LCS(oldArr,oldArr)
with open(mod_json_dir, 'r') as modelFile:
  preContent=json.loads(modelFile.read())

#更新阶段
if 'oldCo' in globals() and len(oldCo)>0:
  content=[]
  print(oldCo)
  print(preContent)
  LCS(oldCo, preContent)
  print(content)
#初始化阶段
else:
  oldCo=[]
  content=preContent


#部分下载的情况
selected_mods = [x.strip() for x in mod_name.split('与') if x.strip()]




def get_file_size(file_path):
    try:
        file_size_bytes = os.path.getsize(file_path)
        for unit in ['B', 'KB', 'MB', 'GB', 'TB']:
            if file_size_bytes < 1024.0:
                break
            file_size_bytes /= 1024.0
        return f"{file_size_bytes:.2f} {unit}"
    except OSError as e:
        print(f"Error: {e}")
        return None

def get_civitai_file(str):
    match = re.search(r'[^/]+$', str.decode())
    if match:
      return match.group(0).split('\n')[0]
    else:
      print("无法从输出中提取文件名")

def move_model(source_path, target_path):
    try:
        shutil.move(source_path, target_path)
    except OSError as e:
        print(f"Error: {e}")

def download_file(item):
  # for item in content:
  try:
    if selected_mods and item['name'] not in selected_mods:
        return
    download_url=item['downloadLink']
    #huggingface
    file_name = urlparse(download_url).path.split("/")[-1]
    #开始下载
    if '.' not in file_name:
      if len(cookie)>0:
        cmd = ['aria2c', '--header', f'Cookie:{cookie}', '--console-log-level=error', '-c', '-x', '16', '-s', '16', '-k', '1M', download_url, '-d', lora_dir]
      else:
        cmd = ['aria2c', '--header',  '--console-log-level=error', '-c', '-x', '16', '-s', '16', '-k', '1M', download_url, '-d', lora_dir]
    else:
      cmd = ['aria2c', '--header',  '--console-log-level=error', '-c', '-x', '16', '-s', '16', '-k', '1M', download_url, '-d', lora_dir, "-o" ,file_name]
    result = subprocess.run(cmd ,stderr=subprocess. PIPE, stdout=subprocess.PIPE)
    if result.returncode == 0:
      # 判断是civitai还是hugging face还是自定义
      #civitai
      if '.' not in file_name:
        file_name =get_civitai_file(result.stdout)
      #如果定义了名字则重命名
      if item['name']!='未命名':
        #需要进行文件名的兼容处理
        temp_name=sanitize_filename(item['name'])+os.path.splitext(file_name)[1]
        os.rename(f"{lora_dir}/{file_name}",f"{lora_dir}/{temp_name}")
        final_name =temp_name
      else:
        final_name =file_name
      source_path = f"{lora_dir}/{final_name}"
      file_size = get_file_size(source_path)
      #如果path定义了则进行移动
      if item.get('path') and item['path'] != "":
          target_path = item['path']
          move_model(source_path, target_path)
          item['path']=target_path
          print(file_name+'已下载，重命名为：'+final_name)
          print('移动--',final_name,f'到{target_path}')
      #如果为checkpoint则进行移动
      elif file_size and 'GB'in file_size:
          move_model(source_path, check_dir)
          item['path']=check_dir
          print(file_name+'已下载，重命名为：'+final_name)
          print('移动checkpoint--',final_name,f'到{check_dir}文件夹')
      #如果为lora则直接调用source_path
      else:
          item['path']=lora_dir
          print(file_name+'已下载，重命名为：'+final_name)
      #改变item['name']用于最小化更新的重命名判断
      item['name']=final_name
      oldCo.append(item)
    else:
       if "login" in get_civitai_file(result.stdout):
            print("===============================================================================\n   ")
            print(f"{item['name']}下载失败，需要登录civitai进行下载，请按照如下步骤获取cookie填入")
            print("1.ctrl+t打开空白页，按f12选择\"网络\"")
            print(f"2.粘贴{item['downloadLink']}到链接输入栏进行跳转同时观察包含http s://civitai.com/api/download 的这个请求")
            print(f"3.将请求头的cookie复制下来在cookie的输入框中填入，重新执行2.2进行下载\n   ")
            print("===============================================================================")
       print(f"\033[91m{item['name']}下载失败,请检查{item['downloadLink']}\033[0m")
  except Exception as e:
    traceback.print_exc()

# download_file(item)
# 使用线程池进行下载
with ThreadPoolExecutor(max_workers=5) as executor:
    for item in content:
        executor.submit(download_file, item)
#@title ## 2.3、解压模型

!unzip /content/stable-diffusion-webui/models/Stable-diffusion/聚星vae.zip -d /content/stable-diffusion-webui/models/VAE/聚星VAE && rm /content/stable-diffusion-webui/models/Stable-diffusion/聚星vae.zip

!unzip /content/stable-diffusion-webui/models/Stable-diffusion/聚星lora.zip -d /content/stable-diffusion-webui/models/Lora/聚星Lora && rm /content/stable-diffusion-webui/models/Stable-diffusion/聚星lora.zip

!unzip /content/stable-diffusion-webui/models/Lora/聚星embeddings.zip -d /content/stable-diffusion-webui/embeddings/聚星embeddings && rm /content/stable-diffusion-webui/models/Lora/聚星embeddings.zip


#@title ## 3、初始化/重置到推荐配置
#@markdown ####是否允许在云盘创建图片文件夹且将生成的图片导入到云盘：##
is_cloud_output = False  # @param {type:'boolean'}
#@markdown ####生成图片自动保存到本地设备：##
is_auto_download = True  # @param {type:'boolean'}
#@markdown ####使用你云盘里的config.json：##
is_config_json = False  # @param {type:'boolean'}

sd0="s"+"t"+"a"+"b"+"l"+"e"+"-"+"d"+"i"+"f"+"f"+"u"+"s"+"i"+"o"+"n"+"-"+"w"+"e"+"b"+"u"
sd=sd0+'i'
import json
import re
import os

#自动查找config.json文件
def find_config_json(root_path,config_json_name):
    for file_name in os.listdir(root_path):
        file_path = os.path.join(root_path, file_name)
        if os.path.isdir(file_path):
            res=find_config_json(file_path,config_json_name)
            if res is not None:
              return res
        elif file_name == config_json_name:
            print("找到config.json文件：", file_path)
            return file_path
    return None

def rec_config_json():
  json_content = {
      "samples_save": True,
      "samples_format": "png",
      "samples_filename_pattern": "",
      "save_images_add_number": True,
      "grid_save": True,
      "grid_format": "png",
      "grid_extended_filename": False,
      "grid_only_if_multiple": True,
      "grid_prevent_empty_spots": False,
      "n_rows": -1,
      "enable_pnginfo": True,
      "save_txt": False,
      "save_images_before_face_restoration": False,
      "save_images_before_highres_fix": False,
      "save_images_before_color_correction": False,
      "jpeg_quality": 80,
      "export_for_4chan": True,
      "use_original_name_batch": True,
      "use_upscaler_name_as_suffix": False,
      "save_selected_only": True,
      "do_not_add_watermark": False,
      "temp_dir": "",
      "clean_temp_dir_at_start": False,
      "outdir_samples": "",
      "outdir_txt2img_samples": "outputs/txt2img-images",
      "outdir_img2img_samples": "outputs/img2img-images",
      "outdir_extras_samples": "outputs/extras-images",
      "outdir_grids": "",
      "outdir_txt2img_grids": "outputs/txt2img-grids",
      "outdir_img2img_grids": "outputs/img2img-grids",
      "outdir_save": "log/images",
      "save_to_dirs": False,
      "grid_save_to_dirs": False,
      "use_save_to_dirs_for_ui": False,
      "directories_filename_pattern": "[date]",
      "directories_max_prompt_words": 8,
      "ESRGAN_tile": 192,
      "ESRGAN_tile_overlap": 8,
      "realesrgan_enabled_models": [
          "R-ESRGAN 4x+",
          "R-ESRGAN 4x+ Anime6B"
      ],
      "upscaler_for_img2img": None,
      "face_restoration_model": None,
      "code_former_weight": 0.5,
      "face_restoration_unload": False,
      "show_warnings": False,
      "memmon_poll_rate": 8,
      "samples_log_stdout": False,
      "multiple_tqdm": True,
      "print_hypernet_extra": False,
      "unload_models_when_training": True,
      "pin_memory": False,
      "save_optimizer_state": False,
      "save_training_settings_to_txt": True,
      "dataset_filename_word_regex": "",
      "dataset_filename_join_string": " ",
      "training_image_repeats_per_epoch": 1,
      "training_write_csv_every": 500,
      "training_xattention_optimizations": False,
      "training_enable_tensorboard": False,
      "training_tensorboard_save_images": False,
      "training_tensorboard_flush_every": 120,
      "sd_model_checkpoint": "",
      "sd_checkpoint_cache": 0,
      "sd_vae_checkpoint_cache": 0,
      "sd_vae": "Automatic",
      "sd_vae_as_default": False,
      "inpainting_mask_weight": 1.0,
      "initial_noise_multiplier": 1.0,
      "img2img_color_correction": False,
      "img2img_fix_steps": False,
      "img2img_background_color": "#ffffff",
      "enable_quantization": False,
      "enable_emphasis": True,
      "enable_batch_seeds": True,
      "comma_padding_backtrack": 20,
      "CLIP_stop_at_last_layers": 2,
      "upcast_attn": False,
      "use_old_emphasis_implementation": False,
      "use_old_karras_scheduler_sigmas": False,
      "use_old_hires_fix_width_height": False,
      "interrogate_keep_models_in_memory": False,
      "interrogate_return_ranks": False,
      "interrogate_clip_num_beams": 1,
      "interrogate_clip_min_length": 24,
      "interrogate_clip_max_length": 48,
      "interrogate_clip_dict_limit": 1500,
      "interrogate_clip_skip_categories": [],
      "interrogate_deepbooru_score_threshold": 0.7,
      "deepbooru_sort_alpha": False,
      "deepbooru_use_spaces": False,
      "deepbooru_escape": True,
      "deepbooru_filter_tags": "",
      "extra_networks_default_view": "thumbs",
      "extra_networks_default_multiplier": 1.0,
      "sd_hypernetwork": "None",
      "return_grid": False,
      "do_not_show_images": False,
      "add_model_hash_to_info": True,
      "add_model_name_to_info": True,
      "disable_weights_auto_swap": True,
      "send_seed": True,
      "send_size": True,
      "font": "",
      "js_modal_lightbox": True,
      "js_modal_lightbox_initially_zoomed": True,
      "show_progress_in_title": True,
      "samplers_in_dropdown": False,
      "dimensions_and_batch_together": True,
      "keyedit_precision_attention": 0.1,
      "keyedit_precision_extra": 0.05,
      "quicksettings": "sd_model_checkpoint, sd_vae, CLIP_stop_at_last_layers, use_old_karras_scheduler_sigmas, always_discard_next_to_last_sigma",
      "ui_reorder": "inpaint, sampler, checkboxes, hires_fix, dimensions, cfg, seed, batch, override_settings, scripts",
      "ui_extra_networks_tab_reorder": "",
      "localization": "zh_CN",
      "show_progressbar": True,
      "live_previews_enable": True,
      "show_progress_grid": True,
      "show_progress_every_n_steps": 20,
      "show_progress_type": "Approx NN",
      "live_preview_content": "Prompt",
      "live_preview_refresh_period": 1000,
      "hide_samplers": [],
      "eta_ddim": 0.0,
      "eta_ancestral": 1.0,
      "ddim_discretize": "uniform",
      "s_churn": 0.0,
      "s_tmin": 0.0,
      "s_noise": 1.0,
      "eta_noise_seed_delta": 31337,
      "always_discard_next_to_last_sigma": False,
      "postprocessing_enable_in_main_ui": [],
      "postprocessing_operation_order": [],
      "upscaling_max_images_in_cache": 5,
      "disabled_extensions": [],
      "sd_checkpoint_hash": "7af57400eb7303877ec35e5b9e03fc29802c44066828165dc3a20b973c439428",
      "ldsr_steps": 100,
      "ldsr_cached": False,
      "SWIN_tile": 192,
      "SWIN_tile_overlap": 8,
      "sd_lora": "None",
      "lora_apply_to_outputs": False,
      "tac_tagFile": "danbooru.csv",
      "tac_active": True,
      "tac_activeIn.txt2img": True,
      "tac_activeIn.img2img": True,
      "tac_activeIn.negativePrompts": True,
      "tac_activeIn.thirdParty": True,
      "tac_activeIn.modelList": "",
      "tac_activeIn.modelListMode": "Blacklist",
      "tac_maxResults": 15.0,
      "tac_showAllResults": False,
      "tac_resultStepLength": 100.0,
      "tac_delayTime": 100.0,
      "tac_useWildcards": True,
      "tac_useEmbeddings": True,
      "tac_useHypernetworks": True,
      "tac_useLoras": True,
      "tac_showWikiLinks": False,
      "tac_replaceUnderscores": True,
      "tac_escapeParentheses": True,
      "tac_appendComma": True,
      "tac_alias.searchByAlias": True,
      "tac_alias.onlyShowAlias": False,
      "tac_translation.translationFile": "CN.csv",
      "tac_translation.oldFormat": True,
      "tac_translation.searchByTranslation": True,
      "tac_extra.extraFile": "extra-quality-tags.csv",
      "tac_extra.addMode": "Insert before",
      "additional_networks_extra_lora_path": "",
      "additional_networks_sort_models_by": "name",
      "additional_networks_reverse_sort_order": False,
      "additional_networks_model_name_filter": "",
      "additional_networks_xy_grid_model_metadata": "",
      "additional_networks_hash_thread_count": 1.0,
      "additional_networks_back_up_model_when_saving": True,
      "additional_networks_show_only_safetensors": False,
      "additional_networks_show_only_models_with_metadata": "disabled",
      "additional_networks_max_top_tags": 20.0,
      "additional_networks_max_dataset_folders": 20.0,
      "images_history_preload": False,
      "images_record_paths": True,
      "images_delete_message": True,
      "images_history_page_columns": 6.0,
      "images_history_page_rows": 6.0,
      "images_history_pages_perload": 20.0,
      "img_downscale_threshold": 4.0,
      "target_side_length": 4000.0,
      "no_dpmpp_sde_batch_determinism": False,
      "control_net_max_models_num": 3,
  }
  if is_cloud_output:
    json_content["outdir_txt2img_samples"]="/content/drive/MyDrive/outputs/txt2img-images"
    json_content["outdir_img2img_samples"]="/content/drive/MyDrive/outputs/img2img-images"
    json_content["outdir_extras_samples"]="/content/drive/MyDrive/outputs/extras-images"
    json_content["outdir_txt2img_grids"]="/content/drive/MyDrive/outputs/txt2img-grids"
    json_content["outdir_img2img_grids"]="/content/drive/MyDrive/outputs/img2img-grids"
  with open(f'/content/{sd}/config.json', 'w') as configFile:
    json.dump(json_content, configFile, ensure_ascii=False, indent=4)

if is_config_json==False:
  rec_config_json()
else:
  res_config_json=find_config_json('/content/drive/','config.json')
  if res_config_json is not None:
    !cp {res_config_json} /content/{sd}/config.json
  else:
    print("未找到config.json,将使用默认配置")
    rec_config_json()
#图片自动下载脚本
if is_auto_download:
  !wget -O /content/{sd}/javascript/png_auto_download.js https://github.com/s4afa451dgf415f/colab_stable_diffusion/raw/main/png_auto_download.js
else:
  if os.path.exists(f'/content/{sd}/javascript/png_auto_download.js'):
    os.remove(f'/content/{sd}/javascript/png_auto_download.js')


#anapnoe版本
if sd_web_ui=="anapnoe手机端完美适配":
  #png_info脚本
  !wget -O /content/{sd}/javascript/PNG_info_web.js https://github.com/s4afa451dgf415f/colab_stable_diffusion/raw/main/PNG_info_web.js
  with open(f'/content/{sd}/modules/ui.py', 'r') as readFile:
    content = readFile.read()
  content=content.replace('''                for tabname, button in buttons.items():
                    parameters_copypaste.register_paste_params_button(parameters_copypaste.ParamBinding(
                        paste_button=button, tabname=tabname, source_text_component=generation_info, source_image_component=image,
                    ))

        image.change(
            fn=wrap_gradio_call(modules.extras.run_pnginfo),
            inputs=[image],
            outputs=[html, generation_info, html2],
        )''','')
  content=content.replace('''["txt2img", "img2img", "inpaint", "extras"]''','["txt2img", "img2img", "inpaint", "tagger图生文"]')

  with open(f'/content/{sd}/modules/ui.py', 'w') as writeFile:
      writeFile.write(content)

#png_info脚本兼容
  with open(f'/content/{sd}/javascript/PNG_info_web.js', 'r') as readFile:
    content = readFile.read()
  content=content.replace('''querySelector("#tab_pnginfo > div > div > div:nth-child(2) > div:nth-child(3)")''','querySelector("#tab_pnginfo > div > div>div>div:nth-child(4)")')
  with open(f'/content/{sd}/javascript/PNG_info_web.js', 'w') as writeFile:
      writeFile.write(content)

#automatic111版本
else:
  #手机平板
  css_content = '''
  @media screen and (max-width: 600px) {
    .gradio-slider input[type="range"]{
      display: none;
    }
    .gradio-slider input[type="number"]{
      width: 18em;
  }
  }
  '''
  with open(f'/content/{sd}/style.css', 'a') as cssFile:
      cssFile.write(css_content)
  if sd_web_ui=="AUTOMATIC1111原版v1.5.1":
    #png_info脚本
    !wget -O /content/{sd}/javascript/PNG_info_web.js https://github.com/s4afa451dgf415f/colab_stable_diffusion/raw/main/PNG_info_web.js
    #拦截png_info
    with open(f'/content/{sd}/modules/ui.py', 'r') as readFile:
      content = readFile.read()
    content=content.replace('''                for tabname, button in buttons.items():
                      parameters_copypaste.register_paste_params_button(parameters_copypaste.ParamBinding(
                          paste_button=button, tabname=tabname, source_text_component=generation_info, source_image_component=image,
                      ))

          image.change(
              fn=wrap_gradio_call(modules.extras.run_pnginfo),
              inputs=[image],
              outputs=[html, generation_info, html2],
          )''','')
    with open(f'/content/{sd}/modules/ui.py', 'w') as writeFile:
      writeFile.write(content)

# 11.11 httpx依赖更新
# 读取文件内容
  with open(f'/content/{sd}/requirements_versions.txt', 'r') as readFile:
    content = readFile.read()
  content += '\nhttpx==0.24.1'
  with open(f'/content/{sd}/requirements_versions.txt', 'w') as writeFile:
    writeFile.write(content)
#@title # **4、运行/重启**
sd0="s"+"t"+"a"+"b"+"l"+"e"+"-"+"d"+"i"+"f"+"f"+"u"+"s"+"i"+"o"+"n"+"-"+"w"+"e"+"b"+"u"
sd=sd0+'i'
%cd /content/{sd}
#@markdown ####全精度/半精度(推荐)启动：##
is_full_precision = False  # @param {type:'boolean'}
#@markdown ####主题切换为暗配色：##
is_black = False  # @param {type:'boolean'}
#@markdown ####(可选)获取[ngrok](https://dashboard.ngrok.com/get-started/your-authtoken)的token进行免费网络加速：##
ngrok_auth=""  #@param {type:"string"}

full_precision_str="--share --lowram --disable-safe-unpickle  --disable-console-progressbars --xformers --enable-insecure-extension-access --precision full --no-half --no-half-vae --opt-sub-quad-attention --opt-channelslast --api"
half_precision_str="--share --lowram  --disable-safe-unpickle  --disable-console-progressbars --xformers --enable-insecure-extension-access  --opt-sub-quad-attention --no-half-vae --opt-channelslast --api"
sdxl_str="--share --medvram-sdxl  --disable-safe-unpickle  --disable-console-progressbars --xformers --enable-insecure-extension-access  --opt-sub-quad-attention --no-half-vae --opt-channelslast --api"
if is_black:
  full_precision_str+=" --theme='dark'"
  half_precision_str+=" --theme='dark'"
  sdxl_str+=" --theme='dark'"
else:
  full_precision_str+=" --theme='light'"
  half_precision_str+=" --theme='light'"
  sdxl_str+=" --theme='light'"
if ngrok_auth:
  full_precision_str+=f"  --ngrok={ngrok_auth} --ngrok-region='auto'"
  half_precision_str+=f"  --ngrok={ngrok_auth} --ngrok-region='auto'"
  sdxl_str+=f"  --ngrok={ngrok_auth} --ngrok-region='auto'"
if sd_web_ui=="AUTOMATIC1111原版v1.6.0[sdxl]":
  !python launch.py {sdxl_str} 
elif is_full_precision:
  !python launch.py {full_precision_str} #（解决精度不足但速度不够）
else:
  !python launch.py {half_precision_str} #半精度（速度提升1倍以上，但可能出现精度不足问题）
# **推荐模型集合下载和删除sd**
#@title ## 新人推荐mod集合
#@markdown ####将下载json到云盘：##
mod_json_name = "Anime.json" #@param ["Anime.json", "真人.json", "design.json", "gameCG.json"]

mod_download_url={
   "Anime.json": "https://huggingface.co/datasets/daasd/model_json/resolve/main/Anime.json",
   "真人.json": "https://huggingface.co/datasets/daasd/model_json/resolve/main/%E7%9C%9F%E4%BA%BA.json",
   "design.json": "https://huggingface.co/datasets/daasd/model_json/resolve/main/design.json",
   "gameCG.json": "https://huggingface.co/datasets/daasd/model_json/resolve/main/gameCG.json"
}

if is_load_pan=="允许":
  !aria2c --console-log-level=error -c -x 16 -s 16 -k 1M {mod_download_url[mod_json_name]} -d /content/drive/MyDrive/
  mod_json_dir=f'/content/drive/MyDrive/{mod_json_name}'
else:
  !aria2c --console-log-level=error -c -x 16 -s 16 -k 1M {mod_download_url[mod_json_name]} -d /content/
  mod_json_dir=f'/content/{mod_json_name}'
#@title ## 删除临时硬盘的SD，重新安装和部署（别乱点）
sd="s"+"t"+"a"+"b"+"l"+"e"+"-"+"d"+"i"+"f"+"f"+"u"+"s"+"i"+"o"+"n"+"-"+"w"+"e"+"b"+"u"+"i"
import os
import shutil
import ipywidgets as widgets
import time
from IPython.display import display
from google.colab import output

def delete_lora_folder(b):
    folder_path = f'/content/{sd}'
    if os.path.exists(folder_path):
        shutil.rmtree(folder_path)
        print("已成功删除，请重新安装")
        time.sleep(5)
        output.clear()
    else:
        print("已取消删除")
        time.sleep(5)
        output.clear()

def on_button_click(button):
    delete_lora_folder(button)

button = widgets.Button(description="确定要删除吗?")
button.on_click(on_button_click)
display(button)

#@title ## 其他自定义下载
#@markdown ####下载地址：##
download_url = "" #@param {type: "string"}
#@markdown ####存放目录：##
download_dir = "" #@param {type: "string"}
#@markdown ####文件名：##
download_name = "" #@param {type: "string"}

!aria2c --console-log-level=error -c -x 16 -s 16 -k 1M  -d {download_dir} -o {download_name} {download_url}
## 常用模型下载地址

### 常用大模型Checkpoint
####ChilloutMix:
  c站：https://civitai.com/api/download/models/11745
  huggingface:https://huggingface.co/naonovn/chilloutmix_NiPrunedFp32Fix/resolve/main/chilloutmix_NiPrunedFp32Fix.safetensors
####Counterfeit-V2.5:
  c站：https://civitai.com/api/download/models/7425
  huggingface:https://huggingface.co/gsdf/Counterfeit-V2.5/resolve/main/Counterfeit-V2.5_pruned.safetensors
####Protogen:
  c站：https://civitai.com/api/download/models/4007
  huggingface:https://huggingface.co/darkstorm2150/Protogen_v2.2_Official_Release/resolve/main/Protogen_V2.2-pruned-fp16.safetensors
####国风3 GuoFeng3:
  c站：https://civitai.com/api/download/models/36644
  huggingface:https://huggingface.co/xiaolxl/GuoFeng3/resolve/main/GuoFeng3.2.safetensors
####Pastel-Mix:
  c站：https://civitai.com/api/download/models/6297
  huggingface:https://huggingface.co/andite/pastel-mix/blob/main/pastelmix-fp16.safetensors


---


### 常用模型Lora
####hanfu 汉服:
c站：https://civitai.com/api/download/models/27946
huggingface:https://huggingface.co/hanafuusen2001/HanFu/resolve/main/hanfu_v29.safetensors
####Taiwan-doll-likeness:
c站：https://civitai.com/api/download/models/20684
huggingface:https://huggingface.co/Kanbara/doll-likeness-series/resolve/main/koreanDollLikeness_v20.safetensors
####Korean-doll-likeness:
c站：https://civitai.com/api/download/models/31284
huggingface:https://huggingface.co/shiyicode/lora-models/resolve/main/Korean-doll-likeness.safetensors
####Japanese-doll-likeness:
c站：https://civitai.com/api/download/models/34562
huggingface:https://huggingface.co/Kanbara/doll-likeness-series/resolve/main/japaneseDollLikeness_v15.safetensors
####墨心 MoXin:
c站：https://civitai.com/api/download/models/14856
huggingface:https://huggingface.co/simhuangxi/MoXin/resolve/main/MoXinV1.safetensors
####Yae Miko:
c站：https://civitai.com/api/download/models/11523
huggingface:https://huggingface.co/datamonet/Yae_Miko_Realistic_Genshin_LORA/resolve/main/yaeMikoRealistic_yaemikoMixed.safetensors
